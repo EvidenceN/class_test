{
 "nbformat": 4,
 "nbformat_minor": 2,
 "metadata": {
  "language_info": {
   "name": "python",
   "codemirror_mode": {
    "name": "ipython",
    "version": 3
   },
   "version": "3.7.5-candidate"
  },
  "orig_nbformat": 2,
  "file_extension": ".py",
  "mimetype": "text/x-python",
  "name": "python",
  "npconvert_exporter": "python",
  "pygments_lexer": "ipython3",
  "version": 3,
  "kernelspec": {
   "name": "python37564bitclasstestpipenv47f8ab61273e4381926003cec1f48731",
   "display_name": "Python 3.7.5 64-bit ('class_test': pipenv)"
  }
 },
 "cells": [
  {
   "cell_type": "code",
   "execution_count": 1,
   "metadata": {},
   "outputs": [],
   "source": [
    "from function import split_data"
   ]
  },
  {
   "cell_type": "code",
   "execution_count": 2,
   "metadata": {},
   "outputs": [],
   "source": [
    "import pandas as pd"
   ]
  },
  {
   "cell_type": "code",
   "execution_count": 3,
   "metadata": {},
   "outputs": [],
   "source": [
    "data = 'https://raw.githubusercontent.com/EvidenceN/Life-Expectancy-Prediction/master/Life%20Expectancy/Data/Life%20Expectancy%20Data.csv'"
   ]
  },
  {
   "cell_type": "code",
   "execution_count": 4,
   "metadata": {},
   "outputs": [],
   "source": [
    "life = pd.read_csv(data)"
   ]
  },
  {
   "cell_type": "code",
   "execution_count": 5,
   "metadata": {},
   "outputs": [],
   "source": [
    "train, test, val = split_data(life)"
   ]
  },
  {
   "cell_type": "code",
   "execution_count": 6,
   "metadata": {},
   "outputs": [
    {
     "data": {
      "text/html": "<div>\n<style scoped>\n    .dataframe tbody tr th:only-of-type {\n        vertical-align: middle;\n    }\n\n    .dataframe tbody tr th {\n        vertical-align: top;\n    }\n\n    .dataframe thead th {\n        text-align: right;\n    }\n</style>\n<table border=\"1\" class=\"dataframe\">\n  <thead>\n    <tr style=\"text-align: right;\">\n      <th></th>\n      <th>Country</th>\n      <th>Year</th>\n      <th>Status</th>\n      <th>Life expectancy</th>\n      <th>Adult Mortality</th>\n      <th>infant deaths</th>\n      <th>Alcohol</th>\n      <th>percentage expenditure</th>\n      <th>Hepatitis B</th>\n      <th>Measles</th>\n      <th>...</th>\n      <th>Polio</th>\n      <th>Total expenditure</th>\n      <th>Diphtheria</th>\n      <th>HIV/AIDS</th>\n      <th>GDP</th>\n      <th>Population</th>\n      <th>thinness  1-19 years</th>\n      <th>thinness 5-9 years</th>\n      <th>Income composition of resources</th>\n      <th>Schooling</th>\n    </tr>\n  </thead>\n  <tbody>\n    <tr>\n      <th>850</th>\n      <td>Eritrea</td>\n      <td>2015</td>\n      <td>Developing</td>\n      <td>64.7</td>\n      <td>255.0</td>\n      <td>5</td>\n      <td>NaN</td>\n      <td>0.000000</td>\n      <td>95.0</td>\n      <td>198</td>\n      <td>...</td>\n      <td>95.0</td>\n      <td>NaN</td>\n      <td>95.0</td>\n      <td>0.4</td>\n      <td>NaN</td>\n      <td>NaN</td>\n      <td>8.4</td>\n      <td>8.2</td>\n      <td>0.418</td>\n      <td>5.0</td>\n    </tr>\n    <tr>\n      <th>848</th>\n      <td>Equatorial Guinea</td>\n      <td>2001</td>\n      <td>Developing</td>\n      <td>53.1</td>\n      <td>334.0</td>\n      <td>3</td>\n      <td>5.07</td>\n      <td>197.783955</td>\n      <td>NaN</td>\n      <td>1339</td>\n      <td>...</td>\n      <td>43.0</td>\n      <td>1.78</td>\n      <td>35.0</td>\n      <td>2.3</td>\n      <td>2283.87939</td>\n      <td>639762.0</td>\n      <td>1.6</td>\n      <td>1.4</td>\n      <td>0.527</td>\n      <td>8.0</td>\n    </tr>\n    <tr>\n      <th>2420</th>\n      <td>South Sudan</td>\n      <td>2004</td>\n      <td>Developing</td>\n      <td>51.4</td>\n      <td>383.0</td>\n      <td>29</td>\n      <td>NaN</td>\n      <td>0.000000</td>\n      <td>NaN</td>\n      <td>0</td>\n      <td>...</td>\n      <td>NaN</td>\n      <td>NaN</td>\n      <td>NaN</td>\n      <td>3.8</td>\n      <td>NaN</td>\n      <td>7787655.0</td>\n      <td>NaN</td>\n      <td>NaN</td>\n      <td>0.000</td>\n      <td>0.0</td>\n    </tr>\n    <tr>\n      <th>2497</th>\n      <td>Swaziland</td>\n      <td>2007</td>\n      <td>Developing</td>\n      <td>50.0</td>\n      <td>51.0</td>\n      <td>3</td>\n      <td>5.55</td>\n      <td>43.366500</td>\n      <td>92.0</td>\n      <td>0</td>\n      <td>...</td>\n      <td>88.0</td>\n      <td>7.50</td>\n      <td>87.0</td>\n      <td>40.7</td>\n      <td>347.48798</td>\n      <td>1138434.0</td>\n      <td>6.5</td>\n      <td>6.7</td>\n      <td>0.508</td>\n      <td>10.5</td>\n    </tr>\n    <tr>\n      <th>2281</th>\n      <td>Seychelles</td>\n      <td>2015</td>\n      <td>Developing</td>\n      <td>73.2</td>\n      <td>168.0</td>\n      <td>0</td>\n      <td>NaN</td>\n      <td>0.000000</td>\n      <td>98.0</td>\n      <td>0</td>\n      <td>...</td>\n      <td>97.0</td>\n      <td>NaN</td>\n      <td>97.0</td>\n      <td>0.1</td>\n      <td>1539.46400</td>\n      <td>93419.0</td>\n      <td>5.7</td>\n      <td>6.0</td>\n      <td>0.781</td>\n      <td>14.1</td>\n    </tr>\n  </tbody>\n</table>\n<p>5 rows × 22 columns</p>\n</div>",
      "text/plain": "                Country  Year      Status  Life expectancy   Adult Mortality  \\\n850             Eritrea  2015  Developing              64.7            255.0   \n848   Equatorial Guinea  2001  Developing              53.1            334.0   \n2420        South Sudan  2004  Developing              51.4            383.0   \n2497          Swaziland  2007  Developing              50.0             51.0   \n2281         Seychelles  2015  Developing              73.2            168.0   \n\n      infant deaths  Alcohol  percentage expenditure  Hepatitis B  Measles   \\\n850               5      NaN                0.000000         95.0       198   \n848               3     5.07              197.783955          NaN      1339   \n2420             29      NaN                0.000000          NaN         0   \n2497              3     5.55               43.366500         92.0         0   \n2281              0      NaN                0.000000         98.0         0   \n\n      ...  Polio  Total expenditure  Diphtheria    HIV/AIDS         GDP  \\\n850   ...   95.0                NaN         95.0        0.4         NaN   \n848   ...   43.0               1.78         35.0        2.3  2283.87939   \n2420  ...    NaN                NaN          NaN        3.8         NaN   \n2497  ...   88.0               7.50         87.0       40.7   347.48798   \n2281  ...   97.0                NaN         97.0        0.1  1539.46400   \n\n      Population   thinness  1-19 years   thinness 5-9 years  \\\n850          NaN                    8.4                  8.2   \n848     639762.0                    1.6                  1.4   \n2420   7787655.0                    NaN                  NaN   \n2497   1138434.0                    6.5                  6.7   \n2281     93419.0                    5.7                  6.0   \n\n      Income composition of resources  Schooling  \n850                             0.418        5.0  \n848                             0.527        8.0  \n2420                            0.000        0.0  \n2497                            0.508       10.5  \n2281                            0.781       14.1  \n\n[5 rows x 22 columns]"
     },
     "execution_count": 6,
     "metadata": {},
     "output_type": "execute_result"
    }
   ],
   "source": [
    "train.head()"
   ]
  },
  {
   "cell_type": "code",
   "execution_count": 7,
   "metadata": {},
   "outputs": [
    {
     "data": {
      "text/plain": "(2938, 22)"
     },
     "execution_count": 7,
     "metadata": {},
     "output_type": "execute_result"
    }
   ],
   "source": [
    "life.shape"
   ]
  },
  {
   "cell_type": "code",
   "execution_count": 8,
   "metadata": {},
   "outputs": [
    {
     "data": {
      "text/plain": "(2122, 22)"
     },
     "execution_count": 8,
     "metadata": {},
     "output_type": "execute_result"
    }
   ],
   "source": [
    "train.shape"
   ]
  },
  {
   "cell_type": "code",
   "execution_count": 9,
   "metadata": {},
   "outputs": [
    {
     "data": {
      "text/plain": "(441, 22)"
     },
     "execution_count": 9,
     "metadata": {},
     "output_type": "execute_result"
    }
   ],
   "source": [
    "test.shape"
   ]
  },
  {
   "cell_type": "code",
   "execution_count": 10,
   "metadata": {},
   "outputs": [
    {
     "data": {
      "text/plain": "(375, 22)"
     },
     "execution_count": 10,
     "metadata": {},
     "output_type": "execute_result"
    }
   ],
   "source": [
    "val.shape"
   ]
  },
  {
   "cell_type": "code",
   "execution_count": 17,
   "metadata": {},
   "outputs": [
    {
     "ename": "IndentationError",
     "evalue": "expected an indented block (class_test.py, line 34)",
     "output_type": "error",
     "traceback": [
      "Traceback \u001b[1;36m(most recent call last)\u001b[0m:\n",
      "  File \u001b[0;32m\"C:\\Users\\Samsung\\.virtualenvs\\class_test-oHDVO7dM\\lib\\site-packages\\IPython\\core\\interactiveshell.py\"\u001b[0m, line \u001b[0;32m3331\u001b[0m, in \u001b[0;35mrun_code\u001b[0m\n    exec(code_obj, self.user_global_ns, self.user_ns)\n",
      "\u001b[1;36m  File \u001b[1;32m\"<ipython-input-17-4c791b678139>\"\u001b[1;36m, line \u001b[1;32m1\u001b[1;36m, in \u001b[1;35m<module>\u001b[1;36m\u001b[0m\n\u001b[1;33m    from class_test import Easy\u001b[0m\n",
      "\u001b[1;36m  File \u001b[1;32m\"c:\\Users\\Samsung\\desktop\\class_test\\project\\class_test.py\"\u001b[1;36m, line \u001b[1;32m34\u001b[0m\n\u001b[1;33m    '''\u001b[0m\n\u001b[1;37m       \n^\u001b[0m\n\u001b[1;31mIndentationError\u001b[0m\u001b[1;31m:\u001b[0m expected an indented block\n"
     ]
    }
   ],
   "source": [
    "from class_test import Easy"
   ]
  },
  {
   "cell_type": "code",
   "execution_count": null,
   "metadata": {},
   "outputs": [],
   "source": []
  }
 ]
}